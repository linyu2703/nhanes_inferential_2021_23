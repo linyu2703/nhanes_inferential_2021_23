{
  "nbformat": 4,
  "nbformat_minor": 0,
  "metadata": {
    "colab": {
      "provenance": [],
      "authorship_tag": "ABX9TyMWKX4Wtawm9xurfCaYFnc+",
      "include_colab_link": true
    },
    "kernelspec": {
      "name": "python3",
      "display_name": "Python 3"
    },
    "language_info": {
      "name": "python"
    }
  },
  "cells": [
    {
      "cell_type": "markdown",
      "metadata": {
        "id": "view-in-github",
        "colab_type": "text"
      },
      "source": [
        "<a href=\"https://colab.research.google.com/github/linyu2703/nhanes_inferential_2021_23/blob/main/inferential.ipynb\" target=\"_parent\"><img src=\"https://colab.research.google.com/assets/colab-badge.svg\" alt=\"Open In Colab\"/></a>"
      ]
    },
    {
      "cell_type": "code",
      "execution_count": 2,
      "metadata": {
        "id": "8rw5O-LaBS_V"
      },
      "outputs": [],
      "source": [
        "# importing libraries\n",
        "import pandas as pd\n",
        "import numpy as np\n",
        "from scipy.stats import chi2_contingency\n",
        "from scipy.stats import ttest_ind\n",
        "import statsmodels.api as sm\n",
        "from statsmodels.formula.api import ols\n",
        "from statsmodels.stats.multicomp import pairwise_tukeyhsd\n",
        "import matplotlib.pyplot as plt"
      ]
    },
    {
      "cell_type": "code",
      "source": [
        "# loading and reading datasets\n",
        "demo_src = pd.read_sas('DEMO_L.xpt')\n",
        "bpxo_src = pd.read_sas('BPXO_L.xpt')\n",
        "hepb_src = pd.read_sas('HEPB_S_L.xpt')\n",
        "vid_src = pd.read_sas('VID_L.xpt')\n",
        "kiq_src = pd.read_sas('KIQ_U_L.xpt')\n",
        "paq_src = pd.read_sas('PAQ_L.xpt')\n",
        "whq_src = pd.read_sas('WHQ_L.xpt')"
      ],
      "metadata": {
        "id": "x4YKczOrB5_r"
      },
      "execution_count": 3,
      "outputs": []
    },
    {
      "cell_type": "code",
      "source": [
        "# creating a separate dataframe from the main src dataframe with specific columns\n",
        "# creating a main dataframe with those dataframes merged by SEQN along with the other specified columns\n",
        "demo = demo_src[['SEQN','DMDMARTZ','DMDEDUC2','RIDAGEYR']].copy()\n",
        "bpxo = bpxo_src[['SEQN','BPXOSY3','BPXODI3']].copy()\n",
        "hepb = hepb_src[['SEQN', 'LBXHBS']].copy()\n",
        "vid = vid_src[['SEQN', 'LBDVD2LC']].copy()\n",
        "kiq = kiq_src[['SEQN', 'KIQ022']].copy()\n",
        "paq = paq_src[['SEQN', 'PAD680']].copy()\n",
        "whq = whq_src[['SEQN', 'WHD020']].copy()\n",
        "df = demo.copy()\n",
        "df = (demo\n",
        "      .merge(bpxo, on='SEQN', how='left')\n",
        "      .merge(hepb, on='SEQN', how='left')\n",
        "      .merge(vid, on='SEQN', how='left')\n",
        "      .merge(kiq, on='SEQN', how='left')\n",
        "      .merge(paq, on='SEQN', how='left')\n",
        "      .merge(whq, on='SEQN', how='left')\n",
        "      )"
      ],
      "metadata": {
        "id": "wCUpotbe8TD0"
      },
      "execution_count": 4,
      "outputs": []
    },
    {
      "cell_type": "code",
      "source": [
        "# renaming columns and recoding values for clarity\n",
        "df_cleaned = df[['SEQN','DMDMARTZ','DMDEDUC2','RIDAGEYR','BPXOSY3','BPXODI3','LBXHBS','LBDVD2LC','KIQ022','PAD680','WHD020']].copy().rename(columns={\n",
        "    'SEQN': 'ID',\n",
        "    'DMDMARTZ': 'Marital Status',\n",
        "    'DMDEDUC2': 'Education Level',\n",
        "    'RIDAGEYR': 'Age',\n",
        "    'BPXOSY3': 'Systolic BP',\n",
        "    'BPXODI3': 'Diastolic BP',\n",
        "    'LBXHBS': 'Hep B',\n",
        "    'LBDVD2LC': 'Vitamin D',\n",
        "    'KIQ022': 'Kidney Condition',\n",
        "    'PAD680': 'Physical Activity',\n",
        "    'WHD020': 'Weight'\n",
        "})\n",
        "\n",
        "df_cleaned['Marital Status'] = np.where(df_cleaned['Marital Status'] == 1, 'married',\n",
        "                                   np.where(df_cleaned['Marital Status'].isin([2,3,77,99]), 'not married', pd.NA))\n",
        "df_cleaned['Education Level'] = np.where(df_cleaned['Education Level'].isin([4,5]),'bachelors or higher',\n",
        "                                    np.where(df_cleaned['Education Level'].isin([1,2,3,7,9]),'less than bachelors', pd.NA))\n",
        "df_cleaned['Age'] = df_cleaned['Age'].mask(df_cleaned['Age'].abs() < 1e-10, np.nan)\n",
        "df_cleaned['Kidney Condition'] = np.where(df_cleaned['Kidney Condition'] == 1, 'Yes', np.where(df_cleaned['Kidney Condition'] == 2, 'No', pd.NA))\n",
        "df_cleaned['Physical Activity'] = df_cleaned['Physical Activity'].replace([7777,9999], np.nan)\n",
        "df_cleaned['Weight'] = df_cleaned['Weight'].replace([7777,9999], np.nan)\n",
        "\n",
        "df_cleaned['Physical Activity'] = df_cleaned['Physical Activity'].fillna(round(df_cleaned['Physical Activity'].median(), 0))\n",
        "df_cleaned['Weight'] = df_cleaned['Weight'].fillna(round(df_cleaned['Weight'].mean(), 0))"
      ],
      "metadata": {
        "id": "xW-TH72H9AHj"
      },
      "execution_count": 5,
      "outputs": []
    },
    {
      "cell_type": "code",
      "source": [
        "# Question 1: \"Is there an association between marital status (married or not married) and education level (bachelor’s degree or higher vs. less than a bachelor’s degree)?\"\n",
        "# chi-squared test will be used to test whether the two variables: (martial status and education level) are independent or dependent\n",
        "Q1 = df_cleaned.loc[(df_cleaned['Marital Status'].isin(['married','not married'])) &\n",
        "    (df_cleaned['Education Level'].isin(['bachelors or higher','less than bachelors']))\n",
        "].copy()\n",
        "\n",
        "Q1['Marital Status'].value_counts()\n",
        "Q1['Education Level'].value_counts()\n",
        "\n",
        "ct = pd.crosstab(Q1['Marital Status'], Q1['Education Level'])\n",
        "print(ct)\n",
        "\n",
        "# Performing chi-square analysis\n",
        "chi2, p, _, _ = chi2_contingency(ct)\n",
        "print(\"Chi-square =\", round(chi2, 2))\n",
        "print(\"p value =\", p)\n"
      ],
      "metadata": {
        "colab": {
          "base_uri": "https://localhost:8080/"
        },
        "id": "07RXU0g3ApJy",
        "outputId": "38fb4993-9688-4fdc-c529-9a6ecd7d18ea"
      },
      "execution_count": 6,
      "outputs": [
        {
          "output_type": "stream",
          "name": "stdout",
          "text": [
            "Education Level  bachelors or higher  less than bachelors\n",
            "Marital Status                                           \n",
            "married                         2782                 1354\n",
            "not married                     2212                 1444\n",
            "Chi-square = 38.24\n",
            "p value = 6.264475724779772e-10\n"
          ]
        }
      ]
    },
    {
      "cell_type": "markdown",
      "source": [
        "p value is less than 0.05, which means there is a significant correlation between martial status and education level. people with bachelors degree or higher are more likely to be married compared to those with less than bachelors degree."
      ],
      "metadata": {
        "id": "u-UVNq_uCd3Q"
      }
    },
    {
      "cell_type": "code",
      "source": [
        "# Question 2: \"Is there a difference in the mean sedentary behavior time between those who are married and those who are not married?\"\n",
        "# 2 sample t-test will be performed to test the relationship between maritial status and physical actvity\n",
        "# null hypothesis: no difference in mean sedentary time between married and not married people\n",
        "# alternative hypothesis: there is a difference in mean sedentary time between married and not married people\n",
        "Q2 = df_cleaned.loc[\n",
        "    (df_cleaned['Marital Status'].isin(['married','not married'])) &\n",
        "    (df_cleaned['Physical Activity'] != 'NaN')\n",
        "].copy()\n",
        "\n",
        "married = Q2.loc[Q2['Marital Status']=='married', 'Physical Activity']\n",
        "not_married = Q2.loc[Q2['Marital Status']=='not married', 'Physical Activity']\n",
        "\n",
        "t_stat, p_val = ttest_ind(married, not_married, equal_var=False)\n",
        "print(\"t-statistic =\", round(t_stat, 2))\n",
        "print(\"p value =\", p_val )\n",
        "\n",
        "married_mean = married.mean()\n",
        "not_married_mean = not_married.mean()\n",
        "print(\"Married Mean =\", round(married_mean, 2))\n",
        "print(\"Not Married Mean =\", round(not_married_mean, 2))"
      ],
      "metadata": {
        "colab": {
          "base_uri": "https://localhost:8080/"
        },
        "id": "8RUT9mr0FQMd",
        "outputId": "691b5876-4f70-44ae-d883-5d72fab412e0"
      },
      "execution_count": 7,
      "outputs": [
        {
          "output_type": "stream",
          "name": "stdout",
          "text": [
            "t-statistic = -3.78\n",
            "p value = 0.00015846852964065343\n",
            "Married Mean = 352.9\n",
            "Not Married Mean = 371.03\n"
          ]
        }
      ]
    },
    {
      "cell_type": "markdown",
      "source": [
        "p value is less than 0.05 which means there is a correlation between martial status and physical activity, the null hypothesis is rejected. the t-stat is -3.78 meaning married people have a lowered mean than not married people, so married people are more likely to be less sedentary compared to than those who are not married."
      ],
      "metadata": {
        "id": "GPu11MusIlUZ"
      }
    },
    {
      "cell_type": "code",
      "source": [
        "# Question 3: \"How do age and marital status affect systolic blood pressure?\"\n",
        "# 2 way ANOVA test will be used to test the relationship between marital status and age with systolic blood pressure\n",
        "Q3 = df_cleaned.loc[\n",
        "    (df_cleaned['Marital Status'].isin(['married', 'not married'])) &\n",
        "    (df_cleaned['Age'] != 'NaN') &\n",
        "    (df_cleaned['Systolic BP'] != 'NaN')\n",
        "].copy()\n",
        "\n",
        "Q3 = Q3.rename(columns={\n",
        "    'Systolic BP': 'Systolic_BP',\n",
        "    'Marital Status': 'Marital_Status',\n",
        "})\n",
        "\n",
        "model = ols('Systolic_BP ~ Marital_Status + Age', data=Q3).fit()\n",
        "\n",
        "anova_table = sm.stats.anova_lm(model, typ=2)\n",
        "print(anova_table)\n"
      ],
      "metadata": {
        "colab": {
          "base_uri": "https://localhost:8080/"
        },
        "id": "FNyqotTjJS5f",
        "outputId": "9a48378c-5522-4d46-f4f7-67432fbbbccd"
      },
      "execution_count": 12,
      "outputs": [
        {
          "output_type": "stream",
          "name": "stdout",
          "text": [
            "                      sum_sq      df           F         PR(>F)\n",
            "Marital_Status  2.535753e+03     1.0    8.678543   3.232503e-03\n",
            "Age             2.652276e+05     1.0  907.734014  1.738958e-185\n",
            "Residual        1.706077e+06  5839.0         NaN            NaN\n"
          ]
        }
      ]
    },
    {
      "cell_type": "markdown",
      "source": [
        "For age: f = 907.73 and p value less than 0.0000000->17 which is extremely small, showing a strong correlation between age and systolic blood pressure. so as people age their systolic blood pressure tends to rise significantly.\n",
        "For martial status: f = 8.68 and p value is 0.0032 which is also relatively small, showing that martial status influences systolic blood pressure as well. married and not married individuals have different avg systolic blood pressure even when controlling for age."
      ],
      "metadata": {
        "id": "k0126obw-RII"
      }
    },
    {
      "cell_type": "markdown",
      "source": [],
      "metadata": {
        "id": "UVL4ws8dAXj8"
      }
    },
    {
      "cell_type": "code",
      "source": [
        "# Question 4: \"Is there a correlation between self-reported weight and minutes of sedentary behavior?\"\n",
        "# linear regression test will be used to test whether weight predicts sedentary behavior\n",
        "Q4 = df_cleaned.loc[\n",
        "    (df_cleaned['Weight'] != 'NaN') &\n",
        "    (df_cleaned['Physical Activity'] != 'NaN')\n",
        "].copy()\n",
        "\n",
        "weight = Q4['Weight']\n",
        "physical_activity = Q4['Physical Activity']\n",
        "\n",
        "weight = sm.add_constant(weight)\n",
        "\n",
        "model = sm.OLS(physical_activity, weight).fit()\n",
        "\n",
        "print(model.summary())\n"
      ],
      "metadata": {
        "colab": {
          "base_uri": "https://localhost:8080/"
        },
        "id": "lqrklXolOaQH",
        "outputId": "5fcedc1e-662e-4707-f95a-112cf13a170e"
      },
      "execution_count": 18,
      "outputs": [
        {
          "output_type": "stream",
          "name": "stdout",
          "text": [
            "                            OLS Regression Results                            \n",
            "==============================================================================\n",
            "Dep. Variable:      Physical Activity   R-squared:                       0.024\n",
            "Model:                            OLS   Adj. R-squared:                  0.024\n",
            "Method:                 Least Squares   F-statistic:                     291.8\n",
            "Date:                Tue, 28 Oct 2025   Prob (F-statistic):           1.17e-64\n",
            "Time:                        22:50:51   Log-Likelihood:                -78425.\n",
            "No. Observations:               11933   AIC:                         1.569e+05\n",
            "Df Residuals:                   11931   BIC:                         1.569e+05\n",
            "Df Model:                           1                                         \n",
            "Covariance Type:            nonrobust                                         \n",
            "==============================================================================\n",
            "                 coef    std err          t      P>|t|      [0.025      0.975]\n",
            "------------------------------------------------------------------------------\n",
            "const        221.3187      7.241     30.564      0.000     207.125     235.512\n",
            "Weight         0.6719      0.039     17.083      0.000       0.595       0.749\n",
            "==============================================================================\n",
            "Omnibus:                     2725.933   Durbin-Watson:                   1.981\n",
            "Prob(Omnibus):                  0.000   Jarque-Bera (JB):             6472.660\n",
            "Skew:                           1.276   Prob(JB):                         0.00\n",
            "Kurtosis:                       5.551   Cond. No.                         842.\n",
            "==============================================================================\n",
            "\n",
            "Notes:\n",
            "[1] Standard Errors assume that the covariance matrix of the errors is correctly specified.\n"
          ]
        }
      ]
    },
    {
      "cell_type": "markdown",
      "source": [
        "Coefficient is  = 0.67 and p = 0.000, which is less than 0.001, this means that there is correlation between weight and physical activity. the higher the weight of an individual the less time being spent on sedentary. the r^2 = 0.024, which means weight alone does not strongly influence the sedentary behavior."
      ],
      "metadata": {
        "id": "fJS08zSm-TpT"
      }
    },
    {
      "cell_type": "code",
      "source": [
        "# Question 5: Develop your own unique question using at least one of the variables listed above.\n",
        "# t-test will be used to test the relationship between kidney condition (individuals with and without) and age\n",
        "Q5 = df_cleaned.loc[\n",
        "    (df_cleaned['Kidney Condition'].isin(['Yes', 'No'])) &\n",
        "    (df_cleaned['Age'] != 'NaN')\n",
        "].copy()\n",
        "\n",
        "kidney_yes = Q5.loc[Q5['Kidney Condition'] == 'Yes', 'Age']\n",
        "kidney_no = Q5.loc[Q5['Kidney Condition'] == 'No', 'Age']\n",
        "\n",
        "t_stat, p_val = ttest_ind(kidney_yes, kidney_no, equal_var=False)\n",
        "print(\"t-statistic =\", round(t_stat, 2))\n",
        "print(\"p-value =\", p_val)\n",
        "\n",
        "print(\"Yes Kidney Condition Average Age =\", round(kidney_yes.mean(), 2))\n",
        "print(\"No Kidney Condition Average Age =\", round(kidney_no.mean(), 2))"
      ],
      "metadata": {
        "colab": {
          "base_uri": "https://localhost:8080/"
        },
        "id": "-n0ZOLheOc1O",
        "outputId": "b20268f4-f59f-4661-ed73-8f7662bfb128"
      },
      "execution_count": 26,
      "outputs": [
        {
          "output_type": "stream",
          "name": "stdout",
          "text": [
            "t-statistic = 16.01\n",
            "p-value = 4.456766612897944e-44\n",
            "Yes Kidney Condition Average Age = 65.81\n",
            "No Kidney Condition Average Age = 53.08\n"
          ]
        }
      ]
    },
    {
      "cell_type": "markdown",
      "source": [
        "t-statistic value is 16.01 and p value is 0.000000...4, less than 0.001, shows that there is a correlation between avg age and individuals with and without kidney conditions. People with kidney conditions with a mean of 65.81 yrs are older than those without kidney conditions with a mean of 53.1 yrs."
      ],
      "metadata": {
        "id": "QCzoebJ9-Vb1"
      }
    }
  ]
}