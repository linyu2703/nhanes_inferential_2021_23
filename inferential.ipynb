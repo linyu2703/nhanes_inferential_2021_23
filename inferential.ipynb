{
  "nbformat": 4,
  "nbformat_minor": 0,
  "metadata": {
    "colab": {
      "provenance": [],
      "authorship_tag": "ABX9TyMDmf9s3nJpMbIUOPEzkjLR",
      "include_colab_link": true
    },
    "kernelspec": {
      "name": "python3",
      "display_name": "Python 3"
    },
    "language_info": {
      "name": "python"
    }
  },
  "cells": [
    {
      "cell_type": "markdown",
      "metadata": {
        "id": "view-in-github",
        "colab_type": "text"
      },
      "source": [
        "<a href=\"https://colab.research.google.com/github/linyu2703/nhanes_inferential_2021_23/blob/main/inferential.ipynb\" target=\"_parent\"><img src=\"https://colab.research.google.com/assets/colab-badge.svg\" alt=\"Open In Colab\"/></a>"
      ]
    },
    {
      "cell_type": "code",
      "execution_count": 15,
      "metadata": {
        "id": "8rw5O-LaBS_V"
      },
      "outputs": [],
      "source": [
        "# importing libraries\n",
        "import pandas as pd\n",
        "import numpy as np\n",
        "from scipy.stats import chi2_contingency\n",
        "from scipy.stats import ttest_ind\n",
        "import statsmodels.api as sm\n",
        "from statsmodels.formula.api import ols\n",
        "from statsmodels.stats.multicomp import pairwise_tukeyhsd\n",
        "import matplotlib.pyplot as plt"
      ]
    },
    {
      "cell_type": "code",
      "source": [
        "# loading and reading datasets\n",
        "demo_src = pd.read_sas('DEMO_L.xpt')\n",
        "bpxo_src = pd.read_sas('BPXO_L.xpt')\n",
        "hepb_src = pd.read_sas('HEPB_S_L.xpt')\n",
        "vid_src = pd.read_sas('VID_L.xpt')\n",
        "kiq_src = pd.read_sas('KIQ_U_L.xpt')\n",
        "paq_src = pd.read_sas('PAQ_L.xpt')\n",
        "whq_src = pd.read_sas('WHQ_L.xpt')"
      ],
      "metadata": {
        "id": "x4YKczOrB5_r"
      },
      "execution_count": 16,
      "outputs": []
    },
    {
      "cell_type": "code",
      "source": [
        "# creating a separate dataframe from the main src dataframe with specific columns\n",
        "# creating a main dataframe with those dataframes merged by SEQN along with the other specified columns\n",
        "demo = demo_src[['SEQN','DMDMARTZ','DMDEDUC2','RIDAGEYR']].copy()\n",
        "bpxo = bpxo_src[['SEQN','BPXOSY3','BPXODI3']].copy()\n",
        "hepb = hepb_src[['SEQN', 'LBXHBS']].copy()\n",
        "vid = vid_src[['SEQN', 'LBDVD2LC']].copy()\n",
        "kiq = kiq_src[['SEQN', 'KIQ022']].copy()\n",
        "paq = paq_src[['SEQN', 'PAD680']].copy()\n",
        "whq = whq_src[['SEQN', 'WHD020']].copy()\n",
        "df = demo.copy()\n",
        "df = (demo\n",
        "      .merge(bpxo, on='SEQN', how='left')\n",
        "      .merge(hepb, on='SEQN', how='left')\n",
        "      .merge(vid, on='SEQN', how='left')\n",
        "      .merge(kiq, on='SEQN', how='left')\n",
        "      .merge(paq, on='SEQN', how='left')\n",
        "      .merge(whq, on='SEQN', how='left')\n",
        "      )"
      ],
      "metadata": {
        "id": "wCUpotbe8TD0"
      },
      "execution_count": 17,
      "outputs": []
    },
    {
      "cell_type": "code",
      "source": [
        "# renaming columns and recoding values for clarity\n",
        "df_cleaned = df[['SEQN','DMDMARTZ','DMDEDUC2','RIDAGEYR','BPXOSY3','BPXODI3','LBXHBS','LBDVD2LC','KIQ022','PAD680','WHD020']].copy().rename(columns={\n",
        "    'SEQN': 'ID',\n",
        "    'DMDMARTZ': 'Marital Status',\n",
        "    'DMDEDUC2': 'Education Level',\n",
        "    'RIDAGEYR': 'Age',\n",
        "    'BPXOSY3': 'Systolic BP',\n",
        "    'BPXODI3': 'Diastolic BP',\n",
        "    'LBXHBS': 'Hep B',\n",
        "    'LBDVD2LC': 'Vitamin D',\n",
        "    'KIQ022': 'Kidney Condition',\n",
        "    'PAD680': 'Physical Activity',\n",
        "    'WHD020': 'Weight'\n",
        "})\n",
        "\n",
        "df_cleaned['Marital Status'] = np.where(df_cleaned['Marital Status'] == 1, 'married',\n",
        "                                   np.where(df_cleaned['Marital Status'].isin([2,3,77,99]), 'not married', pd.NA))\n",
        "df_cleaned['Education Level'] = np.where(df_cleaned['Education Level'].isin([4,5]),'bachelors or higher',\n",
        "                                    np.where(df_cleaned['Education Level'].isin([1,2,3,7,9]),'less than bachelors', pd.NA))\n",
        "df_cleaned['Age'] = df_cleaned['Age'].mask(df_cleaned['Age'].abs() < 1e-10, np.nan)\n",
        "df_cleaned['Kidney Condition'] = np.where(df_cleaned['Kidney Condition'] == 1, 'Yes', np.where(df_cleaned['Kidney Condition'] == 2, 'No', pd.NA))\n",
        "df_cleaned['Physical Activity'] = df_cleaned['Physical Activity'].replace([7777,9999], np.nan)\n",
        "df_cleaned['Weight'] = df_cleaned['Weight'].replace([7777,9999], np.nan)\n",
        "\n",
        "df_cleaned['Physical Activity'] = df_cleaned['Physical Activity'].fillna(round(df_cleaned['Physical Activity'].median(), 0))\n",
        "df_cleaned['Weight'] = df_cleaned['Weight'].fillna(round(df_cleaned['Weight'].mean(), 0))"
      ],
      "metadata": {
        "id": "xW-TH72H9AHj"
      },
      "execution_count": 19,
      "outputs": []
    },
    {
      "cell_type": "code",
      "source": [
        "# Question 1: \"Is there an association between marital status (married or not married) and education level (bachelor’s degree or higher vs. less than a bachelor’s degree)?\"\n",
        "# chi-squared test will be used to test whether the two variables: (martial status and education level) are independent or dependent\n",
        "Q1 = df_cleaned.loc[(df_cleaned['Marital Status'].isin(['married','not married'])) &\n",
        "    (df_cleaned['Education Level'].isin(['bachelors or higher','less than bachelors']))\n",
        "].copy()\n",
        "\n",
        "Q1['Marital Status'].value_counts()\n",
        "Q1['Education Level'].value_counts()\n",
        "\n",
        "ct = pd.crosstab(Q1['Marital Status'], Q1['Education Level'])\n",
        "print(ct)\n",
        "\n",
        "# Performing chi-square analysis\n",
        "chi2, p, _, _ = chi2_contingency(ct)\n",
        "print(\"Chi-square =\", round(chi2, 2))\n",
        "print(\"p value =\", p)\n"
      ],
      "metadata": {
        "colab": {
          "base_uri": "https://localhost:8080/"
        },
        "id": "07RXU0g3ApJy",
        "outputId": "93aa9ac0-6553-46a5-a189-2d391c978cd3"
      },
      "execution_count": 22,
      "outputs": [
        {
          "output_type": "stream",
          "name": "stdout",
          "text": [
            "Education Level  bachelors or higher  less than bachelors\n",
            "Marital Status                                           \n",
            "married                         2782                 1354\n",
            "not married                     2212                 1444\n",
            "Chi-square = 38.24\n",
            "p value = 6.264475724779772e-10\n"
          ]
        }
      ]
    },
    {
      "cell_type": "markdown",
      "source": [
        "p value is less than 0.05, which means there is a significant correlation between martial status and education level. people with bachelors degree or higher are more likely to be married compared to those with less than bachelors degree."
      ],
      "metadata": {
        "id": "u-UVNq_uCd3Q"
      }
    },
    {
      "cell_type": "code",
      "source": [
        "# Question 2: \"Is there a difference in the mean sedentary behavior time between those who are married and those who are not married?\"\n",
        "# 2 sample t-test will be performed to test the relationship between maritial status and physical actvity\n",
        "# null hypothesis: no difference in mean sedentary time between married and not married people\n",
        "# alternative hypothesis: there is a difference in mean sedentary time between married and not married people\n",
        "Q2 = df_cleaned.loc[\n",
        "    (df_cleaned['Marital Status'].isin(['married','not married'])) &\n",
        "    (df_cleaned['Physical Activity'] != 'NaN')\n",
        "].copy()\n",
        "\n",
        "married = Q2.loc[Q2['Marital Status']=='married', 'Physical Activity']\n",
        "not_married = Q2.loc[Q2['Marital Status']=='not married', 'Physical Activity']\n",
        "\n",
        "t_stat, p_val = ttest_ind(married, not_married, equal_var=False)\n",
        "print(\"t-statistic =\", round(t_stat, 2))\n",
        "print(\"p value =\", p_val )\n",
        "\n",
        "married_mean = married.mean()\n",
        "not_married_mean = not_married.mean()\n",
        "print(\"Married Mean =\", round(married_mean, 2))\n",
        "print(\"Not Married Mean =\", round(not_married_mean, 2))"
      ],
      "metadata": {
        "colab": {
          "base_uri": "https://localhost:8080/"
        },
        "id": "8RUT9mr0FQMd",
        "outputId": "a1a78fa1-379c-44d0-a2d0-70e5020df85c"
      },
      "execution_count": 24,
      "outputs": [
        {
          "output_type": "stream",
          "name": "stdout",
          "text": [
            "t-statistic = -3.78\n",
            "p value = 0.00015846852964065343\n",
            "Married Mean = 352.9\n",
            "Not Married Mean = 371.03\n"
          ]
        }
      ]
    },
    {
      "cell_type": "markdown",
      "source": [
        "p value is less than 0.05 which means there is a correlation between martial status and physical activity, the null hypothesis is rejected. the t-stat is -3.78 meaning married people have a lowered mean than not married people, so married people are more likely to be less sedentary compared to than those who are not married."
      ],
      "metadata": {
        "id": "GPu11MusIlUZ"
      }
    },
    {
      "cell_type": "code",
      "source": [],
      "metadata": {
        "id": "FNyqotTjJS5f"
      },
      "execution_count": null,
      "outputs": []
    }
  ]
}