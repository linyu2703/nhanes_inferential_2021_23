{
  "nbformat": 4,
  "nbformat_minor": 0,
  "metadata": {
    "colab": {
      "provenance": [],
      "authorship_tag": "ABX9TyN9JLLCHCz692RwC4Q7yHiG",
      "include_colab_link": true
    },
    "kernelspec": {
      "name": "python3",
      "display_name": "Python 3"
    },
    "language_info": {
      "name": "python"
    }
  },
  "cells": [
    {
      "cell_type": "markdown",
      "metadata": {
        "id": "view-in-github",
        "colab_type": "text"
      },
      "source": [
        "<a href=\"https://colab.research.google.com/github/linyu2703/nhanes_inferential_2021_23/blob/main/inferential.ipynb\" target=\"_parent\"><img src=\"https://colab.research.google.com/assets/colab-badge.svg\" alt=\"Open In Colab\"/></a>"
      ]
    },
    {
      "cell_type": "code",
      "execution_count": 15,
      "metadata": {
        "id": "8rw5O-LaBS_V"
      },
      "outputs": [],
      "source": [
        "# importing libraries\n",
        "import pandas as pd\n",
        "import numpy as np\n",
        "from scipy.stats import chi2_contingency\n",
        "from scipy.stats import ttest_ind\n",
        "import statsmodels.api as sm\n",
        "from statsmodels.formula.api import ols\n",
        "from statsmodels.stats.multicomp import pairwise_tukeyhsd\n",
        "import matplotlib.pyplot as plt"
      ]
    },
    {
      "cell_type": "code",
      "source": [
        "# loading and reading datasets\n",
        "demo_src = pd.read_sas('DEMO_L.xpt')\n",
        "bpxo_src = pd.read_sas('BPXO_L.xpt')\n",
        "hepb_src = pd.read_sas('HEPB_S_L.xpt')\n",
        "vid_src = pd.read_sas('VID_L.xpt')\n",
        "kiq_src = pd.read_sas('KIQ_U_L.xpt')\n",
        "paq_src = pd.read_sas('PAQ_L.xpt')\n",
        "whq_src = pd.read_sas('WHQ_L.xpt')"
      ],
      "metadata": {
        "id": "x4YKczOrB5_r"
      },
      "execution_count": 16,
      "outputs": []
    },
    {
      "cell_type": "code",
      "source": [
        "# creating a separate dataframe from the main src dataframe with specific columns\n",
        "# creating a main dataframe with those dataframes merged by SEQN along with the other specified columns\n",
        "demo = demo_src[['SEQN','DMDMARTZ','DMDEDUC2','RIDAGEYR']].copy()\n",
        "bpxo = bpxo_src[['SEQN','BPXOSY3','BPXODI3']].copy()\n",
        "hepb = hepb_src[['SEQN', 'LBXHBS']].copy()\n",
        "vid = vid_src[['SEQN', 'LBDVD2LC']].copy()\n",
        "kiq = kiq_src[['SEQN', 'KIQ022']].copy()\n",
        "paq = paq_src[['SEQN', 'PAD680']].copy()\n",
        "whq = whq_src[['SEQN', 'WHD020']].copy()\n",
        "df = demo.copy()\n",
        "df = (demo\n",
        "      .merge(bpxo, on='SEQN', how='left')\n",
        "      .merge(hepb, on='SEQN', how='left')\n",
        "      .merge(vid, on='SEQN', how='left')\n",
        "      .merge(kiq, on='SEQN', how='left')\n",
        "      .merge(paq, on='SEQN', how='left')\n",
        "      .merge(whq, on='SEQN', how='left')\n",
        "      )"
      ],
      "metadata": {
        "id": "wCUpotbe8TD0"
      },
      "execution_count": 17,
      "outputs": []
    },
    {
      "cell_type": "code",
      "source": [
        "# renaming columns\n",
        "df_cleaned = df[['SEQN','DMDMARTZ','DMDEDUC2','RIDAGEYR','BPXOSY3','BPXODI3','LBXHBS','LBDVD2LC','KIQ022','PAD680','WHD020']].copy().rename(columns={\n",
        "    'SEQN': 'ID',\n",
        "    'DMDMARTZ': 'Marital Status',\n",
        "    'DMDEDUC2': 'Education Level',\n",
        "    'RIDAGEYR': 'Age',\n",
        "    'BPXOSY3': 'Systolic BP',\n",
        "    'BPXODI3': 'Diastolic BP',\n",
        "    'LBXHBS': 'Hep B',\n",
        "    'LBDVD2LC': 'Vitamin D',\n",
        "    'KIQ022': 'Kidney Condition',\n",
        "    'PAD680': 'Physical Activity',\n",
        "    'WHD020': 'Weight'\n",
        "})\n",
        "# recoding\n",
        "df_cleaned['Marital Status'] = np.where(df_cleaned['Marital Status'] == 1, 'married',\n",
        "                                   np.where(df_cleaned['Marital Status'].isin([2,3,77,99]), 'not married', pd.NA))\n",
        "df_cleaned['Education Level'] = np.where(df_cleaned['Education Level'].isin([4,5]),'bachelors or higher',\n",
        "                                    np.where(df_cleaned['Education Level'].isin([1,2,3,7,9]),'less than bachelors', pd.NA))\n",
        "df_cleaned['Age'] = df_cleaned['Age'].mask(df_cleaned['Age'].abs() < 1e-10, np.nan)\n",
        "df_cleaned['Kidney Condition'] = np.where(df_cleaned['Kidney Condition'] == 1, 'Yes', np.where(df_cleaned['Kidney Condition'] == 2, 'No', pd.NA))\n",
        "df_cleaned['Physical Activity'] = df_cleaned['Physical Activity'].replace([7777,9999], np.nan)\n",
        "df_cleaned['Weight'] = df_cleaned['Weight'].replace([7777,9999], np.nan)\n",
        "\n",
        "df_cleaned['Physical Activity'] = df_cleaned['Physical Activity'].fillna(round(df_cleaned['Physical Activity'].median(), 0))\n",
        "df_cleaned['Weight'] = df_cleaned['Weight'].fillna(round(df_cleaned['Weight'].mean(), 0))"
      ],
      "metadata": {
        "id": "xW-TH72H9AHj"
      },
      "execution_count": 18,
      "outputs": []
    }
  ]
}